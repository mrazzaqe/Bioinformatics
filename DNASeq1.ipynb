{
 "cells": [
  {
   "cell_type": "code",
   "execution_count": 3,
   "metadata": {},
   "outputs": [],
   "source": [
    "from DNAtoolkit import *\n"
   ]
  },
  {
   "cell_type": "code",
   "execution_count": 4,
   "metadata": {},
   "outputs": [
    {
     "name": "stdout",
     "output_type": "stream",
     "text": [
      "ATGCTGCAATCG\n"
     ]
    }
   ],
   "source": [
    "rndDNAStr = \"ATGCTGCAATCG\"\n",
    "print(validateSeq(rndDNAStr))"
   ]
  },
  {
   "cell_type": "code",
   "execution_count": 5,
   "metadata": {},
   "outputs": [
    {
     "name": "stdout",
     "output_type": "stream",
     "text": [
      "False\n"
     ]
    }
   ],
   "source": [
    "rndDNAStr1 = \"ATCGDHGTACG\"\n",
    "print(validateSeq(rndDNAStr1))"
   ]
  },
  {
   "cell_type": "code",
   "execution_count": 6,
   "metadata": {},
   "outputs": [
    {
     "name": "stdout",
     "output_type": "stream",
     "text": [
      "ATGCTAGTCGTCA\n"
     ]
    }
   ],
   "source": [
    "rndDNAStrm = \"aTgCTAGTCgtca\"\n",
    "print(validateSeq(rndDNAStrm))"
   ]
  },
  {
   "cell_type": "code",
   "execution_count": 11,
   "metadata": {},
   "outputs": [
    {
     "name": "stdout",
     "output_type": "stream",
     "text": [
      "AGGTGCTCATCACTTCCCTGTGTATAAGTT\n",
      "{'A': 6, 'C': 7, 'G': 6, 'T': 11}\n"
     ]
    }
   ],
   "source": [
    "#to degerate random DNA String\n",
    "import random \n",
    "randDNAStr = \"\".join([random.choice(Nucleotides)\n",
    "                        for num in range(30)])\n",
    "print(validateSeq(randDNAStr))  \n",
    "print(countNucFrequency(randDNAStr))                    \n"
   ]
  }
 ],
 "metadata": {
  "interpreter": {
   "hash": "955b5dbf1c9568fcdca6427b82ed9dd3b5652756bab72d537c2112a7dd2607f3"
  },
  "kernelspec": {
   "display_name": "Python 3.10.0 64-bit",
   "language": "python",
   "name": "python3"
  },
  "language_info": {
   "codemirror_mode": {
    "name": "ipython",
    "version": 3
   },
   "file_extension": ".py",
   "mimetype": "text/x-python",
   "name": "python",
   "nbconvert_exporter": "python",
   "pygments_lexer": "ipython3",
   "version": "3.10.0"
  },
  "orig_nbformat": 4
 },
 "nbformat": 4,
 "nbformat_minor": 2
}
